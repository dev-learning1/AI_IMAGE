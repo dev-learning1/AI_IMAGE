{
 "cells": [
  {
   "cell_type": "markdown",
   "id": "21b25d17",
   "metadata": {},
   "source": [
    "## 1. 모델 구현\n",
    "- https://www.tensorflow.org/guide/keras/sequential_model\n",
    "\n",
    "```\n",
    "# Define Sequential model with 3 layers\n",
    "model = keras.Sequential(\n",
    "    [\n",
    "        layers.Dense(2, activation=\"relu\", name=\"layer1\"),\n",
    "        layers.Dense(3, activation=\"relu\", name=\"layer2\"),\n",
    "        layers.Dense(4, name=\"layer3\"),\n",
    "    ]\n",
    ")\n",
    "# Call model on a test input\n",
    "x = tf.ones((3, 3))\n",
    "y = model(x)\n",
    "```"
   ]
  },
  {
   "cell_type": "code",
   "execution_count": 13,
   "id": "b07a9536",
   "metadata": {},
   "outputs": [],
   "source": [
    "from tensorflow import keras\n",
    "from tensorflow.keras import layers\n",
    "from tensorflow.keras import activations"
   ]
  },
  {
   "cell_type": "code",
   "execution_count": 20,
   "id": "36b89d7e",
   "metadata": {},
   "outputs": [],
   "source": [
    "# padding='same' : 텐서플로우가 자동으로 패딩을 삽입해 입력값과 출력값의 크기를 맞춰줌\n",
    "# padding='valid' : 텐서플로우가 자동으로 패딩을 적용하지 않고 필터를 적용해서 출력값의 크기가 작이짐\n",
    "\n",
    "def get_sequential_model(input_shape):\n",
    "    model = keras.Sequential(\n",
    "        [\n",
    "            layers.Input(input_shape),\n",
    "            \n",
    "            # 1st\n",
    "            layers.Conv2D(64, 3, strides=1, activation='relu', padding='same'),    # 64 : 필터 수(출력), 3 : 3x3 필터 크기 => 각 필터의 가중치는 다름\n",
    "            layers.Conv2D(64, 3, strides=1, activation='relu', padding='same'),\n",
    "            layers.MaxPool2D(),\n",
    "            layers.BatchNormalization(),    # 배치별 특징 값을 정규화(relu로 인한 다양한 값 생성(local optimal)) => 학습 속도 증가\n",
    "            layers.Dropout(0.5),\n",
    "            \n",
    "            # 2nd\n",
    "            layers.Conv2D(128, 3, strides=1, activation='relu', padding='same'),    # 128 : 필터 수(출력), 3 : 3x3 필터 크기 => 각 필터의 가중치는 다름\n",
    "            layers.Conv2D(128, 3, strides=1, activation='relu', padding='same'),\n",
    "            layers.MaxPool2D(),\n",
    "            layers.BatchNormalization(),    # 배치별 특징 값을 정규화(relu로 인한 다양한 값 생성(local optimal)) => 학습 속도 증가\n",
    "            layers.Dropout(0.3),\n",
    "            \n",
    "            # FC\n",
    "            layers.GlobalMaxPool2D(),\n",
    "            layers.Dense(128, activation='relu'),    # 2nd에서 출력이 128개\n",
    "            layers.Dense(1, activation='sigmoid')    # 마지막 결과 : 맞는지 여부(2진 논리)\n",
    "        ]\n",
    "    )\n",
    "    \n",
    "    return model"
   ]
  },
  {
   "cell_type": "code",
   "execution_count": 21,
   "id": "2075c763",
   "metadata": {},
   "outputs": [
    {
     "name": "stdout",
     "output_type": "stream",
     "text": [
      "Model: \"sequential\"\n",
      "_________________________________________________________________\n",
      " Layer (type)                Output Shape              Param #   \n",
      "=================================================================\n",
      " conv2d_16 (Conv2D)          (None, 256, 256, 64)      1792      \n",
      "                                                                 \n",
      " conv2d_17 (Conv2D)          (None, 256, 256, 64)      36928     \n",
      "                                                                 \n",
      " max_pooling2d_8 (MaxPooling  (None, 128, 128, 64)     0         \n",
      " 2D)                                                             \n",
      "                                                                 \n",
      " batch_normalization (BatchN  (None, 128, 128, 64)     256       \n",
      " ormalization)                                                   \n",
      "                                                                 \n",
      " dropout (Dropout)           (None, 128, 128, 64)      0         \n",
      "                                                                 \n",
      " conv2d_18 (Conv2D)          (None, 128, 128, 128)     73856     \n",
      "                                                                 \n",
      " conv2d_19 (Conv2D)          (None, 128, 128, 128)     147584    \n",
      "                                                                 \n",
      " max_pooling2d_9 (MaxPooling  (None, 64, 64, 128)      0         \n",
      " 2D)                                                             \n",
      "                                                                 \n",
      " batch_normalization_1 (Batc  (None, 64, 64, 128)      512       \n",
      " hNormalization)                                                 \n",
      "                                                                 \n",
      " dropout_1 (Dropout)         (None, 64, 64, 128)       0         \n",
      "                                                                 \n",
      " global_max_pooling2d (Globa  (None, 128)              0         \n",
      " lMaxPooling2D)                                                  \n",
      "                                                                 \n",
      " dense (Dense)               (None, 128)               16512     \n",
      "                                                                 \n",
      " dense_1 (Dense)             (None, 1)                 129       \n",
      "                                                                 \n",
      "=================================================================\n",
      "Total params: 277,569\n",
      "Trainable params: 277,185\n",
      "Non-trainable params: 384\n",
      "_________________________________________________________________\n"
     ]
    }
   ],
   "source": [
    "input_shape = (256, 256, 3)\n",
    "model = get_sequential_model(input_shape)\n",
    "\n",
    "model.summary()\n",
    "\n",
    "# 파라미터(param)가 크면 클수록 연산 수가 많아져 더 정확해짐"
   ]
  },
  {
   "cell_type": "code",
   "execution_count": 22,
   "id": "feebf6d0",
   "metadata": {},
   "outputs": [],
   "source": [
    "class SimpleCNN(keras.Model):\n",
    "    def __init__(self):\n",
    "        super(SimpleCNN, self).__init__()\n",
    "        \n",
    "        self.conv_block_1 = keras.Sequential(\n",
    "            [\n",
    "                layers.Conv2D(64, 3, strides=1, activation='relu', padding='same'),    # 64 : 필터 수(출력), 3 : 3x3 필터 크기 => 각 필터의 가중치는 다름\n",
    "                layers.Conv2D(64, 3, strides=1, activation='relu', padding='same'),\n",
    "                layers.MaxPool2D(),\n",
    "                layers.BatchNormalization(),    # 배치별 특징 값을 정규화(relu로 인한 다양한 값 생성(local optimal)) => 학습 속도 증가\n",
    "                layers.Dropout(0.5)\n",
    "            ], name='conv_block_1'\n",
    "        )\n",
    "\n",
    "        self.conv_block_2 = keras.Sequential(\n",
    "            [\n",
    "                layers.Conv2D(128, 3, strides=1, activation='relu', padding='same'),    # 64 : 필터 수(출력), 3 : 3x3 필터 크기 => 각 필터의 가중치는 다름\n",
    "                layers.Conv2D(128, 3, strides=1, activation='relu', padding='same'),\n",
    "                layers.MaxPool2D(),\n",
    "                layers.BatchNormalization(),    # 배치별 특징 값을 정규화(relu로 인한 다양한 값 생성(local optimal)) => 학습 속도 증가\n",
    "                layers.Dropout(0.5)\n",
    "            ], name='conv_block_2'\n",
    "        )\n",
    "\n",
    "        self.classifier = keras.Sequential(\n",
    "            [\n",
    "                layers.GlobalMaxPool2D(),\n",
    "                layers.Dense(128, activation='relu'),    # 2nd에서 출력이 128개\n",
    "                layers.Dense(1, activation='sigmoid')    # 마지막 결과 : 맞는지 여부(2진 논리)        \n",
    "        ], name='classifier'\n",
    "        )\n",
    "        \n",
    "    def call(self, input_tensor, training=False):\n",
    "        x = self.conv_block_1(input_tensor)\n",
    "        x = self.conv_block_2(x)\n",
    "        x = self.classifier(x)\n",
    "        return x"
   ]
  },
  {
   "cell_type": "code",
   "execution_count": 24,
   "id": "3c67d8ff",
   "metadata": {},
   "outputs": [
    {
     "name": "stdout",
     "output_type": "stream",
     "text": [
      "Model: \"simple_cnn_1\"\n",
      "_________________________________________________________________\n",
      " Layer (type)                Output Shape              Param #   \n",
      "=================================================================\n",
      " conv_block_1 (Sequential)   (None, 128, 128, 64)      38976     \n",
      "                                                                 \n",
      " conv_block_2 (Sequential)   (None, 64, 64, 128)       221952    \n",
      "                                                                 \n",
      " classifier (Sequential)     (None, 1)                 16641     \n",
      "                                                                 \n",
      "=================================================================\n",
      "Total params: 277,569\n",
      "Trainable params: 277,185\n",
      "Non-trainable params: 384\n",
      "_________________________________________________________________\n"
     ]
    }
   ],
   "source": [
    "input_shape = (None, 256, 256, 3)    # None : 배치 사이즈 설정 안함\n",
    "model = SimpleCNN()\n",
    "model.build(input_shape)\n",
    "\n",
    "model.summary()"
   ]
  },
  {
   "cell_type": "code",
   "execution_count": 25,
   "id": "20cecece",
   "metadata": {},
   "outputs": [],
   "source": [
    "model.compile(\n",
    "    optimizer='adam',\n",
    "    loss='binary_crossentropy',\n",
    "    metrics='accuracy'\n",
    ")"
   ]
  }
 ],
 "metadata": {
  "kernelspec": {
   "display_name": "Python 3 (ipykernel)",
   "language": "python",
   "name": "python3"
  },
  "language_info": {
   "codemirror_mode": {
    "name": "ipython",
    "version": 3
   },
   "file_extension": ".py",
   "mimetype": "text/x-python",
   "name": "python",
   "nbconvert_exporter": "python",
   "pygments_lexer": "ipython3",
   "version": "3.7.7"
  }
 },
 "nbformat": 4,
 "nbformat_minor": 5
}
