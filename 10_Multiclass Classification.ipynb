{
 "cells": [
  {
   "cell_type": "code",
   "execution_count": 1,
   "id": "c6530c58",
   "metadata": {},
   "outputs": [],
   "source": [
    "from tensorflow import keras\n",
    "from tensorflow.keras import layers\n",
    "from tensorflow.keras import activations\n",
    "from tensorflow.keras.applications import EfficientNetB0    # 위의 사이트에 쓰여 있는 모델이름 import\n",
    "\n",
    "import tensorflow as tf\n",
    "import pandas as pd\n",
    "import numpy as np\n",
    "import cv2\n",
    "import matplotlib.pyplot as plt"
   ]
  },
  {
   "cell_type": "code",
   "execution_count": 2,
   "id": "7994ca55",
   "metadata": {
    "scrolled": true
   },
   "outputs": [
    {
     "data": {
      "image/png": "[encoded data removed]",
      "text/plain": [
       "<Figure size 720x360 with 1 Axes>"
      ]
     },
     "metadata": {
      "needs_background": "light"
     },
     "output_type": "display_data"
    }
   ],
   "source": [
    "csv_path = 'D:/data_ai/5_AI/kfolds.csv'\n",
    "df = pd.read_csv(csv_path)\n",
    "np.unique(df['id'])    # 중복안되게 종류나열\n",
    "\n",
    "value_counts = df['id'].value_counts().sort_index()\n",
    "plt.figure(figsize=(10, 5))\n",
    "plt.bar(range(len(value_counts)), value_counts.values)\n",
    "plt.xticks(range(len(value_counts)), value_counts.index.values)\n",
    "plt.tight_layout()\n",
    "plt.show()\n",
    "\n",
    "# id 개수 : 37\n",
    "# 각 id에 해당하는 이미지 개수 : y축"
   ]
  },
  {
   "cell_type": "code",
   "execution_count": 4,
   "id": "f54f8fcf",
   "metadata": {
    "scrolled": true
   },
   "outputs": [
    {
     "name": "stdout",
     "output_type": "stream",
     "text": [
      "Model: \"model\"\n",
      "_________________________________________________________________\n",
      " Layer (type)                Output Shape              Param #   \n",
      "=================================================================\n",
      " input_1 (InputLayer)        [(None, 256, 256, 3)]     0         \n",
      "                                                                 \n",
      " efficientnetb0 (Functional)  (None, 1280)             4049571   \n",
      "                                                                 \n",
      " dense (Dense)               (None, 37)                47397     \n",
      "                                                                 \n",
      "=================================================================\n",
      "Total params: 4,096,968\n",
      "Trainable params: 4,054,945\n",
      "Non-trainable params: 42,023\n",
      "_________________________________________________________________\n"
     ]
    },
    {
     "name": "stderr",
     "output_type": "stream",
     "text": [
      "c:\\program files\\python37\\lib\\site-packages\\keras\\optimizers\\optimizer_v2\\adam.py:110: UserWarning: The `lr` argument is deprecated, use `learning_rate` instead.\n",
      "  super(Adam, self).__init__(name, **kwargs)\n"
     ]
    }
   ],
   "source": [
    "# 다중 분류로 모델 변경하기\n",
    "# 케라스 어플리케이션 예제\n",
    "\n",
    "def get_model(input_shape):\n",
    "    inputs = keras.Input(input_shape)  # input layer 생성\n",
    "    base_model = EfficientNetB0(\n",
    "        input_shape = input_shape,\n",
    "        weights = 'imagenet',\n",
    "        include_top = False,\n",
    "        pooling = 'avg'    # pooling 기억안나면 5_모델구현 다시 보기\n",
    "    )\n",
    "    \n",
    "    x = base_model(inputs)\n",
    "    output = layers.Dense(37, activation='softmax')(x)    # 다중 분류에서 0~1 사이의 실수로 리턴. 총 합이 1이 됨. 확률로 해석 가능\n",
    "    model = keras.Model(inputs, output)\n",
    "    return model\n",
    "\n",
    "input_shape=(256, 256, 3)\n",
    "model = get_model(input_shape)\n",
    "\n",
    "adam = keras.optimizers.Adam(lr=0.0001)\n",
    "\n",
    "model.compile(\n",
    "    optimizer=adam,\n",
    "    loss='sparse_categorical_crossentropy',    # 다중 분류 문제이기 때문에\n",
    "    metrics='accuracy'\n",
    ")\n",
    "\n",
    "model.summary()"
   ]
  }
 ],
 "metadata": {
  "kernelspec": {
   "display_name": "Python 3 (ipykernel)",
   "language": "python",
   "name": "python3"
  },
  "language_info": {
   "codemirror_mode": {
    "name": "ipython",
    "version": 3
   },
   "file_extension": ".py",
   "mimetype": "text/x-python",
   "name": "python",
   "nbconvert_exporter": "python",
   "pygments_lexer": "ipython3",
   "version": "3.7.7"
  }
 },
 "nbformat": 4,
 "nbformat_minor": 5
}
